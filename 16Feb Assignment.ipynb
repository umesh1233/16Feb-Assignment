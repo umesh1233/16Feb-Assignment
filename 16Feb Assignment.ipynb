{
 "cells": [
  {
   "cell_type": "code",
   "execution_count": null,
   "id": "6f7f9023-35ae-423b-a449-57d77c0837cf",
   "metadata": {},
   "outputs": [],
   "source": [
    "#Q.1\n",
    "Database:-A database is information that is set up for easy access, management and updating.\n",
    "Computer databases typically store aggregations of data records or\n",
    "files that contain information, such as sales transactions, customer data, financials and product information.\n",
    "\n",
    "Difference between SQL and NoSQL database:\n",
    "SQL databases are vertically scalable, while NoSQL databases are horizontally scalable. SQL databases are table-based,\n",
    "while NoSQL databases are document, key-value, graph, or wide-column stores.\n",
    "SQL databases are better for multi-row transactions, while NoSQL is better for unstructured data like documents or JSON."
   ]
  },
  {
   "cell_type": "code",
   "execution_count": null,
   "id": "20b91f76-6f52-4b5f-bdf1-3d4ae2eaf545",
   "metadata": {},
   "outputs": [],
   "source": [
    "#Q.2\n",
    "DLL:-\n",
    "Data Definition Language (DDL) is a subset of SQL. It is a language for describing data and its relationships \n",
    "in a database.\n",
    "\n",
    "#CREATE:-\n",
    "The CREATE  command creates a new table in the database.\n",
    "CREATE TABLE Persons (\n",
    "    PersonID int,\n",
    "    LastName varchar(255),\n",
    "    FirstName varchar(255),\n",
    "    Address varchar(255),\n",
    "    City varchar(255)\n",
    ");\n",
    "\n",
    "#DROPE:-\n",
    "The DROP command deletes a table in the database.\n",
    "DROP TABLE Persons;\n",
    "\n",
    "#ALTER:-\n",
    "The ALTER command adds, deletes, or modifies columns in a table.\n",
    "ALTER TABLE Persons\n",
    "ADD Email varchar(255);\n",
    "\n",
    "#TURNCATE:\n",
    "The TRUNCATE command deletes the data inside a table, but not the table itself.\n",
    "TRUNCATE TABLE Persons;"
   ]
  },
  {
   "cell_type": "code",
   "execution_count": null,
   "id": "18a01562-2b88-4f40-bd71-4870d664360b",
   "metadata": {},
   "outputs": [],
   "source": [
    "#Q.3\n",
    "DML:-\n",
    "A DML (data manipulation language) refers to a computer programming language that \n",
    "allows you to add (insert), delete (delete),and alter (update) data in a database.\n",
    "\n",
    "#INSERT:-\n",
    "Insert command use of insert the data in the table.\n",
    "INSERT INTO tableName\n",
    "(column1, column2, ...)\n",
    "VALUES (value1, value2, ...)\n",
    "\n",
    "#UPDATE:-\n",
    "Update command Use to change a column value for one or multiple rows.\n",
    "UPDATE tableName\n",
    "SET column1=value1, column2=value2,...\n",
    "WHERE filterColumn=filterValue\n",
    "\n",
    "#DELETE:-\n",
    "DELETE removes one or multiple rows from a table.\n",
    "DELETE tableName\n",
    "WHERE  filterColumn=filterValue;"
   ]
  },
  {
   "cell_type": "code",
   "execution_count": null,
   "id": "4d795d6d-562d-4749-b841-dced94fe5f0d",
   "metadata": {},
   "outputs": [],
   "source": [
    "#Q.4\n",
    "The full form of DQL is Data Query Language.\n",
    "DQL is a part of the grouping involved in SQL (Structures Query Language) sub-languages.\n",
    "\n",
    "#SELECT:-\n",
    "The SELECT statement is used to select data from a database.\n",
    "SELECT column1, column2, ...\n",
    "FROM table_name;"
   ]
  },
  {
   "cell_type": "code",
   "execution_count": null,
   "id": "98e0594a-7f04-483b-9b63-6663746f4a0e",
   "metadata": {},
   "outputs": [],
   "source": [
    "#Q.5\n",
    "A relational database is designed to enforce the uniqueness of primary keys by allowing only one row with\n",
    "a given primary key value in a table. Foreign keys. A foreign key is a\n",
    "column or a set of columns in a table whose values correspond to the values of the primary key in another table."
   ]
  },
  {
   "cell_type": "code",
   "execution_count": null,
   "id": "1c8615bc-73a2-41ee-8313-dbfffe6af09e",
   "metadata": {},
   "outputs": [],
   "source": [
    "#Q.6\n",
    "import mysql.connector\n",
    "\n",
    "mydb = mysql.connector.connect(\n",
    "  host=\"localhost\",\n",
    "  user=\"yourusername\",\n",
    "  password=\"yourpassword\",\n",
    "  database=\"mydatabase\"\n",
    ")\n",
    "\n",
    "mycursor = mydb.cursor()\n",
    "\n",
    "mycursor.execute(\"SELECT * FROM customers\")\n",
    "\n",
    "myresult = mycursor.fetchall()\n",
    "\n",
    "for x in myresult:\n",
    "    print(x)"
   ]
  },
  {
   "cell_type": "code",
   "execution_count": null,
   "id": "84abb50d-be93-413d-8f60-8ad966e69539",
   "metadata": {},
   "outputs": [],
   "source": [
    "#Q.7\n",
    "Order of Execution\n",
    "1.FROM/JOIN: The FROM and/or JOIN clauses are executed first to determine the data of interest.\n",
    "WHERE: The WHERE clause is executed to filter out records that do not meet the constraints.\n",
    "GROUP BY: The GROUP BY clause is executed to group the data based on the values in one or more columns."
   ]
  }
 ],
 "metadata": {
  "kernelspec": {
   "display_name": "Python 3 (ipykernel)",
   "language": "python",
   "name": "python3"
  },
  "language_info": {
   "codemirror_mode": {
    "name": "ipython",
    "version": 3
   },
   "file_extension": ".py",
   "mimetype": "text/x-python",
   "name": "python",
   "nbconvert_exporter": "python",
   "pygments_lexer": "ipython3",
   "version": "3.10.8"
  }
 },
 "nbformat": 4,
 "nbformat_minor": 5
}
